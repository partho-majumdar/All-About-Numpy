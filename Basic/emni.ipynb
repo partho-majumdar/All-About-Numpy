{
 "cells": [
  {
   "cell_type": "code",
   "execution_count": 2,
   "metadata": {},
   "outputs": [],
   "source": [
    "import numpy as np # type: ignore"
   ]
  },
  {
   "cell_type": "code",
   "execution_count": 3,
   "metadata": {},
   "outputs": [
    {
     "name": "stdout",
     "output_type": "stream",
     "text": [
      "[1 2 3 4] <class 'numpy.ndarray'>\n"
     ]
    }
   ],
   "source": [
    "# create numpy array\n",
    "\n",
    "a = np.array([1, 2, 3, 4])\n",
    "print(a, type(a))"
   ]
  },
  {
   "cell_type": "code",
   "execution_count": 4,
   "metadata": {},
   "outputs": [
    {
     "name": "stdout",
     "output_type": "stream",
     "text": [
      "[[1 2 3]\n",
      " [4 5 6]] <class 'numpy.ndarray'>\n",
      "[[1 2]\n",
      " [3 4]\n",
      " [5 6]] <class 'numpy.ndarray'>\n"
     ]
    }
   ],
   "source": [
    "# 2d(matrix) & 3d(tensor) -> pass list\n",
    "\n",
    "b = np.array([[1, 2, 3], [4, 5, 6]])\n",
    "print(b, type(b))\n",
    "\n",
    "c = np.array([\n",
    "    [1, 2],\n",
    "    [3, 4],\n",
    "    [5, 6]\n",
    "])\n",
    "print(c, type(c))"
   ]
  },
  {
   "cell_type": "code",
   "execution_count": 5,
   "metadata": {},
   "outputs": [
    {
     "name": "stdout",
     "output_type": "stream",
     "text": [
      "[1.+0.j 2.+0.j 3.+0.j] <class 'numpy.ndarray'>\n"
     ]
    }
   ],
   "source": [
    "# own data type (dtype)\n",
    "\n",
    "a = np.array([1, 2, 3], dtype = float)\n",
    "a = np.array([1, 2, 3], dtype = bool)\n",
    "a = np.array([1, 2, 3], dtype = complex)\n",
    "print(a, type(a))"
   ]
  },
  {
   "cell_type": "code",
   "execution_count": 6,
   "metadata": {},
   "outputs": [
    {
     "name": "stdout",
     "output_type": "stream",
     "text": [
      "[ 1  2  3  4  5  6  7  8  9 10 11 12] <class 'numpy.ndarray'>\n"
     ]
    }
   ],
   "source": [
    "# np array in range (arange)\n",
    "\n",
    "a = np.arange(1, 13)\n",
    "print(a, type(a))"
   ]
  },
  {
   "cell_type": "code",
   "execution_count": 7,
   "metadata": {},
   "outputs": [
    {
     "name": "stdout",
     "output_type": "stream",
     "text": [
      "[[ 1  2  3  4  5  6]\n",
      " [ 7  8  9 10 11 12]] <class 'numpy.ndarray'>\n",
      "[[[[ 0  1]\n",
      "   [ 2  3]]\n",
      "\n",
      "  [[ 4  5]\n",
      "   [ 6  7]]]\n",
      "\n",
      "\n",
      " [[[ 8  9]\n",
      "   [10 11]]\n",
      "\n",
      "  [[12 13]\n",
      "   [14 15]]]]\n"
     ]
    }
   ],
   "source": [
    "# array size convert (reshape) -> size multiplication = total number of element\n",
    "\n",
    "a = np.arange(1, 13).reshape(2, 6) \n",
    "b = np.arange(16).reshape(2, 2, 2, 2)\n",
    "print(a, type(a))\n",
    "print(b)"
   ]
  },
  {
   "cell_type": "code",
   "execution_count": 8,
   "metadata": {},
   "outputs": [
    {
     "name": "stdout",
     "output_type": "stream",
     "text": [
      "[[1. 1. 1. 1.]\n",
      " [1. 1. 1. 1.]\n",
      " [1. 1. 1. 1.]]\n",
      "[[0. 0. 0. 0.]\n",
      " [0. 0. 0. 0.]\n",
      " [0. 0. 0. 0.]]\n"
     ]
    }
   ],
   "source": [
    "# initial matrix(ones, zeros) -> pass size as tuple \n",
    "\n",
    "a = np.ones((3, 4))\n",
    "b = np.zeros((3, 4))\n",
    "print(a)\n",
    "print(b)"
   ]
  },
  {
   "cell_type": "code",
   "execution_count": 9,
   "metadata": {},
   "outputs": [
    {
     "name": "stdout",
     "output_type": "stream",
     "text": [
      "[[0.00198745 0.6895488  0.84601869]\n",
      " [0.2761807  0.27106039 0.11023469]\n",
      " [0.83956679 0.144059   0.1803812 ]\n",
      " [0.99425268 0.69972397 0.57563763]]\n"
     ]
    }
   ],
   "source": [
    "# random size(pass tuple) matrix with value (0-1)\n",
    "\n",
    "a = np.random.random((4, 3))\n",
    "print(a)"
   ]
  },
  {
   "cell_type": "code",
   "execution_count": 10,
   "metadata": {},
   "outputs": [
    {
     "name": "stdout",
     "output_type": "stream",
     "text": [
      "[-12.  -8.  -4.   0.   4.   8.  12.]\n"
     ]
    }
   ],
   "source": [
    "# value with equal distance (linspace)\n",
    "\n",
    "a = np.linspace(-12, 12, 7)\n",
    "print(a)"
   ]
  },
  {
   "cell_type": "code",
   "execution_count": 11,
   "metadata": {},
   "outputs": [
    {
     "name": "stdout",
     "output_type": "stream",
     "text": [
      "[[1. 0. 0. 0. 0.]\n",
      " [0. 1. 0. 0. 0.]\n",
      " [0. 0. 1. 0. 0.]\n",
      " [0. 0. 0. 1. 0.]\n",
      " [0. 0. 0. 0. 1.]]\n"
     ]
    }
   ],
   "source": [
    "# identity matrix\n",
    "\n",
    "a = np.identity(5)\n",
    "print(a)"
   ]
  },
  {
   "cell_type": "code",
   "execution_count": 12,
   "metadata": {},
   "outputs": [
    {
     "name": "stdout",
     "output_type": "stream",
     "text": [
      "1\n",
      "2\n",
      "3\n",
      "(10,)\n",
      "(3, 4)\n",
      "(2, 2, 2)\n",
      "10\n",
      "12\n",
      "8\n",
      "a1 4\n",
      "8\n"
     ]
    }
   ],
   "source": [
    "a1 = np.arange(10)\n",
    "a2 = np.arange(12, dtype = float).reshape(3, 4)\n",
    "a3 = np.arange(8).reshape(2, 2, 2)\n",
    "\n",
    "# .ndim for dimension\n",
    "print(a1.ndim)\n",
    "print(a2.ndim)\n",
    "print(a3.ndim)\n",
    "\n",
    "# .shape for every value in each dim\n",
    "print(a1.shape)\n",
    "print(a2.shape)\n",
    "print(a3.shape)\n",
    "\n",
    "# .size for total number of element \n",
    "print(a1.size)\n",
    "print(a2.size)\n",
    "print(a3.size)\n",
    "\n",
    "# .itemsize for memory occupy of each element\n",
    "print(\"a1\", a1.itemsize)\n",
    "print(a2.itemsize)"
   ]
  },
  {
   "cell_type": "code",
   "execution_count": 13,
   "metadata": {},
   "outputs": [
    {
     "name": "stdout",
     "output_type": "stream",
     "text": [
      "int32\n"
     ]
    }
   ],
   "source": [
    "# .astype for change memory size\n",
    "\n",
    "a = np.arange(12, dtype = np.int64).reshape(3, 4)\n",
    "a = a.astype(np.int32)\n",
    "print(a.dtype)"
   ]
  },
  {
   "cell_type": "code",
   "execution_count": 14,
   "metadata": {},
   "outputs": [
    {
     "name": "stdout",
     "output_type": "stream",
     "text": [
      "[[ True  True  True False]\n",
      " [False False False False]\n",
      " [False False False False]]\n"
     ]
    }
   ],
   "source": [
    "# scalar operation\n",
    "\n",
    "# arithmetic\n",
    "a = np.arange(12).reshape(3, 4)\n",
    "a = a * 2\n",
    "a = a + 2\n",
    "a = a - 2\n",
    "a = a / 2\n",
    "a = a ** 2\n",
    "\n",
    "# relational\n",
    "a = a > 5\n",
    "a = a < 1\n",
    "a = a == 1\n",
    "print(a)"
   ]
  },
  {
   "cell_type": "code",
   "execution_count": 15,
   "metadata": {},
   "outputs": [
    {
     "data": {
      "text/plain": [
       "array([[          0,           1,           8,          81],\n",
       "       [       1024,       15625,      279936,     5764801],\n",
       "       [  134217728,  -808182895,  1215752192, -1192716655]])"
      ]
     },
     "execution_count": 15,
     "metadata": {},
     "output_type": "execute_result"
    }
   ],
   "source": [
    "# vector operation\n",
    "\n",
    "a1 = np.arange(12).reshape(3, 4)\n",
    "a2 = np.arange(1, 13).reshape(3, 4)\n",
    "\n",
    "a1 + a2\n",
    "a1 - a2\n",
    "a1 * a2\n",
    "a1 / a2\n",
    "a1 ** a2"
   ]
  },
  {
   "cell_type": "code",
   "execution_count": 13,
   "metadata": {},
   "outputs": [
    {
     "name": "stdout",
     "output_type": "stream",
     "text": [
      "[[63 18 26 30]\n",
      " [86 14 71 33]\n",
      " [43  1 54 83]]\n",
      "[[0.48762158 0.73761981 0.46280063 0.13334333]\n",
      " [0.97490294 0.67236549 0.9787135  0.0061217 ]\n",
      " [0.35503448 0.4452208  0.87538143 0.22241651]]\n",
      "[86 18 71 83]\n",
      "[63 86 83]\n"
     ]
    }
   ],
   "source": [
    "# Array operation\n",
    "\n",
    "a1 = np.random.randint(1, 100, 12).reshape(3, 4)\n",
    "a2 = np.random.random((3, 4))\n",
    "\n",
    "print(a1)\n",
    "print(a2)\n",
    "\n",
    "np.max(a1)\n",
    "np.min(a1)\n",
    "np.sum(a1) # sum of all number in array\n",
    "np.prod(a1) # product of all number in array\n",
    "\n",
    "print(np.max(a1, axis = 0)) # row wise all max value\n",
    "print(np.max(a1, axis = 1)) # col wise all max value"
   ]
  },
  {
   "cell_type": "code",
   "execution_count": 16,
   "metadata": {},
   "outputs": [
    {
     "name": "stdout",
     "output_type": "stream",
     "text": [
      "[[10 11 12 13]\n",
      " [14 15 16 17]\n",
      " [18 19 20 21]]\n"
     ]
    },
    {
     "data": {
      "text/plain": [
       "array([14., 15., 16., 17.])"
      ]
     },
     "execution_count": 16,
     "metadata": {},
     "output_type": "execute_result"
    }
   ],
   "source": [
    "# Statistical calculation\n",
    "\n",
    "a1 = np.arange(10, 22).reshape(3, 4)\n",
    "print(a1)\n",
    "\n",
    "# mean -> sum of all value / total element\n",
    "np.mean(a1)\n",
    "np.mean(a1, axis = 0) # row wise mean\n",
    "\n",
    "# median -> middle value\n",
    "np.median(a1, axis = 1) # col wise median\n",
    "\n",
    "# mode -> that appear most\n",
    "# std -> standard deviation\n",
    "# np.std(a1, axis = 1)\n",
    "\n",
    "# var -> variance \n",
    "# np.var(a1, axis = 0)"
   ]
  },
  {
   "cell_type": "code",
   "execution_count": 18,
   "metadata": {},
   "outputs": [
    {
     "data": {
      "text/plain": [
       "array([[ 0.00000000e+00,  1.55740772e+00, -2.18503986e+00,\n",
       "        -1.42546543e-01],\n",
       "       [ 1.15782128e+00, -3.38051501e+00, -2.91006191e-01,\n",
       "         8.71447983e-01],\n",
       "       [-6.79971146e+00, -4.52315659e-01,  6.48360827e-01,\n",
       "        -2.25950846e+02]])"
      ]
     },
     "execution_count": 18,
     "metadata": {},
     "output_type": "execute_result"
    }
   ],
   "source": [
    "# Trigonometric function\n",
    "\n",
    "a1 = np.arange(12).reshape(3, 4)\n",
    "np.sin(a1)\n",
    "np.cos(a1)\n",
    "np.tan(a1)"
   ]
  },
  {
   "cell_type": "code",
   "execution_count": 19,
   "metadata": {},
   "outputs": [
    {
     "name": "stdout",
     "output_type": "stream",
     "text": [
      "[[2 3]\n",
      " [4 5]\n",
      " [6 7]]\n",
      "[[1 2 3]\n",
      " [4 5 6]]\n"
     ]
    },
    {
     "data": {
      "text/plain": [
       "array([[28, 34],\n",
       "       [64, 79]])"
      ]
     },
     "execution_count": 19,
     "metadata": {},
     "output_type": "execute_result"
    }
   ],
   "source": [
    "# Dot product -> matrix multiplication\n",
    "\n",
    "a1 = np.arange(2, 8).reshape(3, 2)\n",
    "a2 = np.arange(1, 7).reshape(2, 3)\n",
    "\n",
    "print(a1)\n",
    "print(a2)\n",
    "\n",
    "np.dot(a1, a2)\n",
    "np.dot(a2, a1)"
   ]
  },
  {
   "cell_type": "code",
   "execution_count": 20,
   "metadata": {},
   "outputs": [
    {
     "data": {
      "text/plain": [
       "array([[  2.71828183,   7.3890561 ],\n",
       "       [ 20.08553692,  54.59815003],\n",
       "       [148.4131591 , 403.42879349]])"
      ]
     },
     "execution_count": 20,
     "metadata": {},
     "output_type": "execute_result"
    }
   ],
   "source": [
    "# Logarithmic and exponential\n",
    "\n",
    "a1 = np.arange(1, 7).reshape(3, 2)\n",
    "np.log(a1)\n",
    "np.exp(a1)"
   ]
  },
  {
   "cell_type": "code",
   "execution_count": 21,
   "metadata": {},
   "outputs": [
    {
     "name": "stdout",
     "output_type": "stream",
     "text": [
      "[[66.49721671 73.02663286 99.26442161 58.08065561]\n",
      " [37.37112358 33.65278639 97.81140025 37.64761107]\n",
      " [41.70744247 58.88097108 74.35050622 26.2917104 ]]\n"
     ]
    },
    {
     "data": {
      "text/plain": [
       "array([[ 67.,  74., 100.,  59.],\n",
       "       [ 38.,  34.,  98.,  38.],\n",
       "       [ 42.,  59.,  75.,  27.]])"
      ]
     },
     "execution_count": 21,
     "metadata": {},
     "output_type": "execute_result"
    }
   ],
   "source": [
    "a1 = np.random.random((3,4)) * 100\n",
    "print(a1)\n",
    "\n",
    "# round\n",
    "np.round(a1)\n",
    "\n",
    "# floor\n",
    "np.floor(a1)\n",
    "\n",
    "# ceil\n",
    "np.ceil(a1)"
   ]
  },
  {
   "cell_type": "code",
   "execution_count": 38,
   "metadata": {},
   "outputs": [
    {
     "name": "stdout",
     "output_type": "stream",
     "text": [
      "[ 0  1  2  3  4  5  6  7  8  9 10 11]\n",
      "[[ 0  1  2  3]\n",
      " [ 4  5  6  7]\n",
      " [ 8  9 10 11]]\n",
      "[[[0 1]\n",
      "  [2 3]]\n",
      "\n",
      " [[4 5]\n",
      "  [6 7]]]\n",
      "11\n",
      "2\n",
      "6\n",
      "9\n",
      "5\n",
      "3\n"
     ]
    }
   ],
   "source": [
    "# Indexing\n",
    "\n",
    "a1 = np.arange(12)\n",
    "a2 = np.arange(12).reshape(3, 4)\n",
    "a3 = np.arange(8).reshape(2, 2, 2)\n",
    "\n",
    "print(a1)\n",
    "print(a2)\n",
    "print(a3)\n",
    "\n",
    "print(a1[-1])\n",
    "print(a1[2])\n",
    "\n",
    "print(a2[1, 2])\n",
    "print(a2[2, 1])\n",
    "\n",
    "print(a3[1, 0, 1])\n",
    "print(a3[0, 1, 1])\n",
    "\n"
   ]
  },
  {
   "cell_type": "code",
   "execution_count": 85,
   "metadata": {},
   "outputs": [
    {
     "name": "stdout",
     "output_type": "stream",
     "text": [
      "[[[ 0  1  2]\n",
      "  [ 3  4  5]\n",
      "  [ 6  7  8]]\n",
      "\n",
      " [[ 9 10 11]\n",
      "  [12 13 14]\n",
      "  [15 16 17]]\n",
      "\n",
      " [[18 19 20]\n",
      "  [21 22 23]\n",
      "  [24 25 26]]]\n",
      "[[ 0  2]\n",
      " [18 20]]\n"
     ]
    }
   ],
   "source": [
    "# Slicing\n",
    "\n",
    "# 1D array\n",
    "a1 = np.arange(12)\n",
    "# print(a1[2:5:2]) # [include:exclude:jump 2 means 1]\n",
    "\n",
    "# 2D array\n",
    "a2 = np.arange(12).reshape(3, 4)\n",
    "# print(a2[1, :]) # 2nd row all col\n",
    "# print(a2[:, 0:1]) # all row 1st col\n",
    "# print(a2[1:, 1:3])\n",
    "# print(a2[::2, ::3])\n",
    "# print(a2[::2, 1::2])\n",
    "# print(a2[1, 0::3])\n",
    "# print(a2[0:2, 1:])\n",
    "\n",
    "# 3D array\n",
    "a3 = np.arange(27).reshape(3, 3, 3)\n",
    "print(a3)\n",
    "# print('\\n')\n",
    "# print(a3[1])\n",
    "# print(a3[::2])\n",
    "# print(a3[0, 1, :])\n",
    "# print(a3[1, :, 1])\n",
    "# print(a3[2, 1:, 1:])\n",
    "print(a3[::2, 0, ::2])"
   ]
  },
  {
   "cell_type": "code",
   "execution_count": 4,
   "metadata": {},
   "outputs": [
    {
     "name": "stdout",
     "output_type": "stream",
     "text": [
      "0\n",
      "1\n",
      "2\n",
      "3\n",
      "4\n",
      "5\n",
      "6\n",
      "7\n",
      "8\n",
      "9\n",
      "10\n",
      "11\n",
      "12\n",
      "13\n",
      "14\n",
      "15\n",
      "16\n",
      "17\n",
      "18\n",
      "19\n",
      "20\n",
      "21\n",
      "22\n",
      "23\n",
      "24\n",
      "25\n",
      "26\n"
     ]
    }
   ],
   "source": [
    "# Iterating\n",
    "\n",
    "# 1D array\n",
    "a1 = np.arange(12)\n",
    "# for i in a1:\n",
    "#     print(i)\n",
    "\n",
    "# 2D array\n",
    "a2 = np.arange(12).reshape(3, 4)\n",
    "# for i in a2:\n",
    "#     print(i)\n",
    "#     for j in i:\n",
    "#         print(j)\n",
    "\n",
    "# 3D array\n",
    "# Rule - 01\n",
    "a3 = np.arange(27).reshape(3, 3, 3)\n",
    "# for i in a3:\n",
    "#     for j in i:\n",
    "#         for k in j:\n",
    "#             print(k)\n",
    "\n",
    "# Rule - 02\n",
    "for i in np.nditer(a3):\n",
    "    print(i)\n"
   ]
  },
  {
   "cell_type": "code",
   "execution_count": 51,
   "metadata": {},
   "outputs": [
    {
     "data": {
      "text/plain": [
       "array([[ 0,  4,  8],\n",
       "       [ 1,  5,  9],\n",
       "       [ 2,  6, 10],\n",
       "       [ 3,  7, 11]])"
      ]
     },
     "execution_count": 51,
     "metadata": {},
     "output_type": "execute_result"
    }
   ],
   "source": [
    "# Transpose\n",
    "\n",
    "a2 = np.arange(12).reshape(3, 4)\n",
    "np.transpose(a2) # R-1\n",
    "a2.T # R-2"
   ]
  },
  {
   "cell_type": "code",
   "execution_count": 53,
   "metadata": {},
   "outputs": [
    {
     "data": {
      "text/plain": [
       "array([ 0,  1,  2,  3,  4,  5,  6,  7,  8,  9, 10, 11, 12, 13, 14, 15, 16,\n",
       "       17, 18, 19, 20, 21, 22, 23, 24, 25, 26])"
      ]
     },
     "execution_count": 53,
     "metadata": {},
     "output_type": "execute_result"
    }
   ],
   "source": [
    "# Ravel -> an dimension to 1D \n",
    "\n",
    "a3 = np.arange(27).reshape(3, 3, 3)\n",
    "a3.ravel()"
   ]
  },
  {
   "cell_type": "code",
   "execution_count": 122,
   "metadata": {},
   "outputs": [
    {
     "name": "stdout",
     "output_type": "stream",
     "text": [
      "[[ 0  1  2  3 12 13 14 15]\n",
      " [ 4  5  6  7 16 17 18 19]\n",
      " [ 8  9 10 11 20 21 22 23]]\n",
      "[[ 0  1  2  3]\n",
      " [ 4  5  6  7]\n",
      " [ 8  9 10 11]\n",
      " [12 13 14 15]\n",
      " [16 17 18 19]\n",
      " [20 21 22 23]]\n"
     ]
    }
   ],
   "source": [
    "# Stacking -> pass tuple \n",
    "\n",
    "# Horizontal stack \n",
    "b1 = np.arange(12).reshape(3, 4)\n",
    "b2 = np.arange(12, 24).reshape(3, 4)\n",
    "\n",
    "print(np.hstack((b1, b2)))\n",
    "\n",
    "# Vertical stack\n",
    "print(np.vstack((b1, b2)))"
   ]
  },
  {
   "cell_type": "code",
   "execution_count": 123,
   "metadata": {},
   "outputs": [
    {
     "name": "stdout",
     "output_type": "stream",
     "text": [
      "[[12 13 14 15]\n",
      " [16 17 18 19]\n",
      " [20 21 22 23]]\n"
     ]
    },
    {
     "data": {
      "text/plain": [
       "[array([[12, 13, 14, 15]]),\n",
       " array([[16, 17, 18, 19]]),\n",
       " array([[20, 21, 22, 23]])]"
      ]
     },
     "execution_count": 123,
     "metadata": {},
     "output_type": "execute_result"
    }
   ],
   "source": [
    "# Splitting -> split in same part\n",
    "\n",
    "# Horizontal split\n",
    "b2 = np.arange(12, 24).reshape(3, 4)\n",
    "print(b2)\n",
    "np.hsplit(b2, 2)\n",
    "\n",
    "# Vertical split\n",
    "np.vsplit(b2, 3)"
   ]
  }
 ],
 "metadata": {
  "kernelspec": {
   "display_name": "Python 3",
   "language": "python",
   "name": "python3"
  },
  "language_info": {
   "codemirror_mode": {
    "name": "ipython",
    "version": 3
   },
   "file_extension": ".py",
   "mimetype": "text/x-python",
   "name": "python",
   "nbconvert_exporter": "python",
   "pygments_lexer": "ipython3",
   "version": "3.9.13"
  }
 },
 "nbformat": 4,
 "nbformat_minor": 2
}
