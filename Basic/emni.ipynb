{
 "cells": [
  {
   "cell_type": "code",
   "execution_count": 2,
   "metadata": {},
   "outputs": [],
   "source": [
    "import numpy as np # type: ignore"
   ]
  },
  {
   "cell_type": "code",
   "execution_count": 3,
   "metadata": {},
   "outputs": [
    {
     "name": "stdout",
     "output_type": "stream",
     "text": [
      "[1 2 3 4] <class 'numpy.ndarray'>\n"
     ]
    }
   ],
   "source": [
    "# create numpy array\n",
    "\n",
    "a = np.array([1, 2, 3, 4])\n",
    "print (a, type(a))"
   ]
  },
  {
   "cell_type": "code",
   "execution_count": 4,
   "metadata": {},
   "outputs": [
    {
     "name": "stdout",
     "output_type": "stream",
     "text": [
      "[[1 2 3]\n",
      " [4 5 6]] <class 'numpy.ndarray'>\n",
      "[[1 2]\n",
      " [3 4]\n",
      " [5 6]] <class 'numpy.ndarray'>\n"
     ]
    }
   ],
   "source": [
    "# 2d(matrix) & 3d(tensor) -> pass list\n",
    "\n",
    "b = np.array([[1, 2, 3], [4, 5, 6]])\n",
    "print (b, type(b))\n",
    "\n",
    "c = np.array([\n",
    "    [1, 2],\n",
    "    [3, 4],\n",
    "    [5, 6]\n",
    "])\n",
    "print (c, type(c))"
   ]
  },
  {
   "cell_type": "code",
   "execution_count": 5,
   "metadata": {},
   "outputs": [
    {
     "name": "stdout",
     "output_type": "stream",
     "text": [
      "[1.+0.j 2.+0.j 3.+0.j] <class 'numpy.ndarray'>\n"
     ]
    }
   ],
   "source": [
    "# own data type (dtype)\n",
    "\n",
    "a = np.array([1, 2, 3], dtype = float)\n",
    "a = np.array([1, 2, 3], dtype = bool)\n",
    "a = np.array([1, 2, 3], dtype = complex)\n",
    "print (a, type(a))"
   ]
  },
  {
   "cell_type": "code",
   "execution_count": 6,
   "metadata": {},
   "outputs": [
    {
     "name": "stdout",
     "output_type": "stream",
     "text": [
      "[ 1  2  3  4  5  6  7  8  9 10 11 12] <class 'numpy.ndarray'>\n"
     ]
    }
   ],
   "source": [
    "# np array in range (arange)\n",
    "\n",
    "a = np.arange(1, 13)\n",
    "print (a, type(a))"
   ]
  },
  {
   "cell_type": "code",
   "execution_count": 7,
   "metadata": {},
   "outputs": [
    {
     "name": "stdout",
     "output_type": "stream",
     "text": [
      "[[ 1  2  3  4  5  6]\n",
      " [ 7  8  9 10 11 12]] <class 'numpy.ndarray'>\n",
      "[[[[ 0  1]\n",
      "   [ 2  3]]\n",
      "\n",
      "  [[ 4  5]\n",
      "   [ 6  7]]]\n",
      "\n",
      "\n",
      " [[[ 8  9]\n",
      "   [10 11]]\n",
      "\n",
      "  [[12 13]\n",
      "   [14 15]]]]\n"
     ]
    }
   ],
   "source": [
    "# array size convert (reshape) -> size multiplication = total number of element\n",
    "\n",
    "a = np.arange(1, 13).reshape(2, 6) \n",
    "b = np.arange(16).reshape(2, 2, 2, 2)\n",
    "print (a, type(a))\n",
    "print (b)"
   ]
  },
  {
   "cell_type": "code",
   "execution_count": 8,
   "metadata": {},
   "outputs": [
    {
     "name": "stdout",
     "output_type": "stream",
     "text": [
      "[[1. 1. 1. 1.]\n",
      " [1. 1. 1. 1.]\n",
      " [1. 1. 1. 1.]]\n",
      "[[0. 0. 0. 0.]\n",
      " [0. 0. 0. 0.]\n",
      " [0. 0. 0. 0.]]\n"
     ]
    }
   ],
   "source": [
    "# initial matrix(ones, zeros) -> pass size as tuple \n",
    "\n",
    "a = np.ones((3, 4))\n",
    "b = np.zeros((3, 4))\n",
    "print (a)\n",
    "print (b)"
   ]
  },
  {
   "cell_type": "code",
   "execution_count": 9,
   "metadata": {},
   "outputs": [
    {
     "name": "stdout",
     "output_type": "stream",
     "text": [
      "[[0.91900947 0.99471217 0.74485358]\n",
      " [0.25574839 0.85518965 0.3876814 ]\n",
      " [0.54864791 0.27520742 0.24025904]\n",
      " [0.04813873 0.60830849 0.14815501]]\n"
     ]
    }
   ],
   "source": [
    "# random size(pass tuple) matrix with value (0-1)\n",
    "\n",
    "a = np.random.random((4, 3))\n",
    "print (a)"
   ]
  },
  {
   "cell_type": "code",
   "execution_count": 10,
   "metadata": {},
   "outputs": [
    {
     "name": "stdout",
     "output_type": "stream",
     "text": [
      "[-12.  -8.  -4.   0.   4.   8.  12.]\n"
     ]
    }
   ],
   "source": [
    "# value with equal distance (linspace)\n",
    "\n",
    "a = np.linspace(-12, 12, 7)\n",
    "print (a)"
   ]
  },
  {
   "cell_type": "code",
   "execution_count": 11,
   "metadata": {},
   "outputs": [
    {
     "name": "stdout",
     "output_type": "stream",
     "text": [
      "[[1. 0. 0. 0. 0.]\n",
      " [0. 1. 0. 0. 0.]\n",
      " [0. 0. 1. 0. 0.]\n",
      " [0. 0. 0. 1. 0.]\n",
      " [0. 0. 0. 0. 1.]]\n"
     ]
    }
   ],
   "source": [
    "# identity matrix\n",
    "\n",
    "a = np.identity(5)\n",
    "print (a)"
   ]
  },
  {
   "cell_type": "code",
   "execution_count": 12,
   "metadata": {},
   "outputs": [
    {
     "name": "stdout",
     "output_type": "stream",
     "text": [
      "1\n",
      "2\n",
      "3\n",
      "(10,)\n",
      "(3, 4)\n",
      "(2, 2, 2)\n",
      "10\n",
      "12\n",
      "8\n",
      "a1 4\n",
      "8\n"
     ]
    }
   ],
   "source": [
    "a1 = np.arange(10)\n",
    "a2 = np.arange(12, dtype = float).reshape(3, 4)\n",
    "a3 = np.arange(8).reshape(2, 2, 2)\n",
    "\n",
    "# .ndim for dimension\n",
    "print (a1.ndim)\n",
    "print (a2.ndim)\n",
    "print (a3.ndim)\n",
    "\n",
    "# .shape for every value in each dim\n",
    "print (a1.shape)\n",
    "print (a2.shape)\n",
    "print (a3.shape)\n",
    "\n",
    "# .size for total number of element \n",
    "print (a1.size)\n",
    "print (a2.size)\n",
    "print (a3.size)\n",
    "\n",
    "# .itemsize for memory occupy of each element\n",
    "print(\"a1\", a1.itemsize)\n",
    "print(a2.itemsize)"
   ]
  },
  {
   "cell_type": "code",
   "execution_count": 13,
   "metadata": {},
   "outputs": [
    {
     "name": "stdout",
     "output_type": "stream",
     "text": [
      "int32\n"
     ]
    }
   ],
   "source": [
    "# .astype for change memory size\n",
    "\n",
    "a = np.arange(12, dtype = np.int64).reshape(3, 4)\n",
    "a = a.astype(np.int32)\n",
    "print (a.dtype)"
   ]
  },
  {
   "cell_type": "code",
   "execution_count": 14,
   "metadata": {},
   "outputs": [
    {
     "name": "stdout",
     "output_type": "stream",
     "text": [
      "[[ True  True  True False]\n",
      " [False False False False]\n",
      " [False False False False]]\n"
     ]
    }
   ],
   "source": [
    "# scalar operation\n",
    "\n",
    "# arithmetic\n",
    "a = np.arange(12).reshape(3, 4)\n",
    "a = a * 2\n",
    "a = a + 2\n",
    "a = a - 2\n",
    "a = a / 2\n",
    "a = a ** 2\n",
    "\n",
    "# relational\n",
    "a = a > 5\n",
    "a = a < 1\n",
    "a = a == 1\n",
    "print (a)"
   ]
  },
  {
   "cell_type": "code",
   "execution_count": 15,
   "metadata": {},
   "outputs": [
    {
     "data": {
      "text/plain": [
       "array([[          0,           1,           8,          81],\n",
       "       [       1024,       15625,      279936,     5764801],\n",
       "       [  134217728,  -808182895,  1215752192, -1192716655]])"
      ]
     },
     "execution_count": 15,
     "metadata": {},
     "output_type": "execute_result"
    }
   ],
   "source": [
    "# vector operation\n",
    "\n",
    "a1 = np.arange(12).reshape(3, 4)\n",
    "a2 = np.arange(1, 13).reshape(3, 4)\n",
    "\n",
    "a1 + a2\n",
    "a1 - a2\n",
    "a1 * a2\n",
    "a1 / a2\n",
    "a1 ** a2"
   ]
  },
  {
   "cell_type": "code",
   "execution_count": 16,
   "metadata": {},
   "outputs": [
    {
     "name": "stdout",
     "output_type": "stream",
     "text": [
      "[[ 1  2  3  4]\n",
      " [ 5  6  7  8]\n",
      " [ 9 10 11 12]]\n",
      "[[0.80013789 0.12876528 0.98308043 0.61645207]\n",
      " [0.00364045 0.8445353  0.04073348 0.00551325]\n",
      " [0.9926773  0.99001655 0.76670554 0.77625467]]\n"
     ]
    },
    {
     "data": {
      "text/plain": [
       "array([ 4,  8, 12])"
      ]
     },
     "execution_count": 16,
     "metadata": {},
     "output_type": "execute_result"
    }
   ],
   "source": [
    "# Array operation\n",
    "\n",
    "a1 = np.arange(1, 13).reshape(3, 4)\n",
    "a2 = np.random.random((3, 4))\n",
    "\n",
    "print (a1)\n",
    "print (a2)\n",
    "\n",
    "np.max(a1)\n",
    "np.min(a1)\n",
    "np.sum(a1) # sum of all number in array\n",
    "np.prod(a1) # product of all number in array\n",
    "\n",
    "np.max(a1, axis = 0) # column wise all max value\n",
    "np.max(a1, axis = 1) # row wise all max value"
   ]
  },
  {
   "cell_type": "code",
   "execution_count": 17,
   "metadata": {},
   "outputs": [
    {
     "name": "stdout",
     "output_type": "stream",
     "text": [
      "[[10 11 12 13]\n",
      " [14 15 16 17]\n",
      " [18 19 20 21]]\n"
     ]
    },
    {
     "data": {
      "text/plain": [
       "array([10.66666667, 10.66666667, 10.66666667, 10.66666667])"
      ]
     },
     "execution_count": 17,
     "metadata": {},
     "output_type": "execute_result"
    }
   ],
   "source": [
    "# Statistical calculation\n",
    "\n",
    "a1 = np.arange(10, 22).reshape(3, 4)\n",
    "print(a1)\n",
    "\n",
    "# mean -> sum of all value / total element\n",
    "np.mean(a1)\n",
    "np.mean(a1, axis = 0) # col wise mean\n",
    "\n",
    "# median -> middle value\n",
    "np.median(a1, axis = 1) # row wise median\n",
    "\n",
    "# mode -> that appear most\n",
    "# std -> standard deviation\n",
    "np.std(a1, axis = 1)\n",
    "\n",
    "# var -> variance \n",
    "np.var(a1, axis = 0)"
   ]
  },
  {
   "cell_type": "code",
   "execution_count": 18,
   "metadata": {},
   "outputs": [
    {
     "data": {
      "text/plain": [
       "array([[ 0.00000000e+00,  1.55740772e+00, -2.18503986e+00,\n",
       "        -1.42546543e-01],\n",
       "       [ 1.15782128e+00, -3.38051501e+00, -2.91006191e-01,\n",
       "         8.71447983e-01],\n",
       "       [-6.79971146e+00, -4.52315659e-01,  6.48360827e-01,\n",
       "        -2.25950846e+02]])"
      ]
     },
     "execution_count": 18,
     "metadata": {},
     "output_type": "execute_result"
    }
   ],
   "source": [
    "# Trigonometric function\n",
    "\n",
    "a1 = np.arange(12).reshape(3, 4)\n",
    "np.sin(a1)\n",
    "np.cos(a1)\n",
    "np.tan(a1)"
   ]
  },
  {
   "cell_type": "code",
   "execution_count": 19,
   "metadata": {},
   "outputs": [
    {
     "name": "stdout",
     "output_type": "stream",
     "text": [
      "[[2 3]\n",
      " [4 5]\n",
      " [6 7]]\n",
      "[[1 2 3]\n",
      " [4 5 6]]\n"
     ]
    },
    {
     "data": {
      "text/plain": [
       "array([[28, 34],\n",
       "       [64, 79]])"
      ]
     },
     "execution_count": 19,
     "metadata": {},
     "output_type": "execute_result"
    }
   ],
   "source": [
    "# Dot product -> matrix multiplication\n",
    "\n",
    "a1 = np.arange(2, 8).reshape(3, 2)\n",
    "a2 = np.arange(1, 7).reshape(2, 3)\n",
    "\n",
    "print (a1)\n",
    "print (a2)\n",
    "\n",
    "np.dot(a1, a2)\n",
    "np.dot(a2, a1)"
   ]
  },
  {
   "cell_type": "code",
   "execution_count": 20,
   "metadata": {},
   "outputs": [
    {
     "data": {
      "text/plain": [
       "array([[  2.71828183,   7.3890561 ],\n",
       "       [ 20.08553692,  54.59815003],\n",
       "       [148.4131591 , 403.42879349]])"
      ]
     },
     "execution_count": 20,
     "metadata": {},
     "output_type": "execute_result"
    }
   ],
   "source": [
    "# Logarithmic and exponential\n",
    "\n",
    "a1 = np.arange(1, 7).reshape(3, 2)\n",
    "np.log(a1)\n",
    "np.exp(a1)"
   ]
  },
  {
   "cell_type": "code",
   "execution_count": 21,
   "metadata": {},
   "outputs": [
    {
     "name": "stdout",
     "output_type": "stream",
     "text": [
      "[[24.26009033 89.75976353 34.40458573 24.20976758]\n",
      " [61.06231548 78.70797453 81.69843087 59.51180674]\n",
      " [29.42757037 16.95002149 72.77437147 39.97495344]]\n"
     ]
    },
    {
     "data": {
      "text/plain": [
       "array([[25., 90., 35., 25.],\n",
       "       [62., 79., 82., 60.],\n",
       "       [30., 17., 73., 40.]])"
      ]
     },
     "execution_count": 21,
     "metadata": {},
     "output_type": "execute_result"
    }
   ],
   "source": [
    "a1 = np.random.random((3,4)) * 100\n",
    "print (a1)\n",
    "\n",
    "# round\n",
    "np.round(a1)\n",
    "\n",
    "# floor\n",
    "np.floor(a1)\n",
    "\n",
    "# ceil\n",
    "np.ceil(a1)"
   ]
  }
 ],
 "metadata": {
  "kernelspec": {
   "display_name": "Python 3",
   "language": "python",
   "name": "python3"
  },
  "language_info": {
   "codemirror_mode": {
    "name": "ipython",
    "version": 3
   },
   "file_extension": ".py",
   "mimetype": "text/x-python",
   "name": "python",
   "nbconvert_exporter": "python",
   "pygments_lexer": "ipython3",
   "version": "3.9.13"
  }
 },
 "nbformat": 4,
 "nbformat_minor": 2
}
