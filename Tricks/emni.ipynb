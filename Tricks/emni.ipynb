{
 "cells": [
  {
   "cell_type": "code",
   "execution_count": 2,
   "metadata": {},
   "outputs": [],
   "source": [
    "import numpy as np"
   ]
  },
  {
   "cell_type": "code",
   "execution_count": 80,
   "metadata": {},
   "outputs": [
    {
     "data": {
      "text/plain": [
       "array([[24, 13, 17,  4],\n",
       "       [30, 32, 18,  7],\n",
       "       [54, 48, 54, 23],\n",
       "       [69, 55, 60, 28],\n",
       "       [75, 60, 82, 64],\n",
       "       [91, 87, 86, 93]])"
      ]
     },
     "execution_count": 80,
     "metadata": {},
     "output_type": "execute_result"
    }
   ],
   "source": [
    "# Sorting\n",
    "\n",
    "a = np.random.randint(1, 100, 15)\n",
    "b = np.random.randint(1, 100, 24).reshape(6, 4)\n",
    "\n",
    "np.sort(a) # sort in ascending\n",
    "np.sort(a)[::-1] # sort in descending\n",
    "\n",
    "np.sort(b) # row wise sorting\n",
    "np.sort(b, axis = 0) # row wise sorting "
   ]
  },
  {
   "cell_type": "code",
   "execution_count": 77,
   "metadata": {},
   "outputs": [
    {
     "name": "stdout",
     "output_type": "stream",
     "text": [
      "6\n"
     ]
    },
    {
     "data": {
      "text/plain": [
       "array([[29., 57., 41., 73.,  1.],\n",
       "       [13., 81., 58.,  3.,  1.],\n",
       "       [97., 96., 81., 28.,  1.],\n",
       "       [10., 77., 12., 22.,  1.],\n",
       "       [79., 10.,  5., 94.,  1.],\n",
       "       [70., 32.,  5., 59.,  1.]])"
      ]
     },
     "execution_count": 77,
     "metadata": {},
     "output_type": "execute_result"
    }
   ],
   "source": [
    "# Append\n",
    "\n",
    "a = np.random.randint(1, 100, 15)\n",
    "b = np.random.randint(1, 100, 24).reshape(6, 4)\n",
    "\n",
    "np.append(a, 202) # append 202 as last element in a \n",
    "print(b.shape[0])\n",
    "np.append(b, np.ones((b.shape[0], 1)), axis = 1) # append 1 in last col"
   ]
  },
  {
   "cell_type": "code",
   "execution_count": 83,
   "metadata": {},
   "outputs": [
    {
     "data": {
      "text/plain": [
       "array([[ 0,  1,  2,  6,  7,  8],\n",
       "       [ 3,  4,  5,  9, 10, 11]])"
      ]
     },
     "execution_count": 83,
     "metadata": {},
     "output_type": "execute_result"
    }
   ],
   "source": [
    "# Concatenate\n",
    "\n",
    "a = np.arange(6).reshape(2, 3)\n",
    "b = np.arange(6, 12).reshape(2, 3)\n",
    "\n",
    "np.concatenate((a, b), axis = 0) # row wise\n",
    "np.concatenate((a, b), axis = 1) # col wise"
   ]
  },
  {
   "cell_type": "code",
   "execution_count": 85,
   "metadata": {},
   "outputs": [
    {
     "data": {
      "text/plain": [
       "array([1, 2, 3, 4, 5, 6, 7, 9])"
      ]
     },
     "execution_count": 85,
     "metadata": {},
     "output_type": "execute_result"
    }
   ],
   "source": [
    "# Unique item\n",
    "\n",
    "a = np.array([1, 2, 1, 2, 4, 5, 6, 5, 7, 9, 7, 3, 2])\n",
    "np.unique(a)"
   ]
  },
  {
   "cell_type": "code",
   "execution_count": 93,
   "metadata": {},
   "outputs": [
    {
     "name": "stdout",
     "output_type": "stream",
     "text": [
      "[[1 2]\n",
      " [3 4]\n",
      " [5 6]]\n"
     ]
    },
    {
     "data": {
      "text/plain": [
       "array([[[1, 2],\n",
       "        [3, 4],\n",
       "        [5, 6]]])"
      ]
     },
     "execution_count": 93,
     "metadata": {},
     "output_type": "execute_result"
    }
   ],
   "source": [
    "# Expand dimension\n",
    "\n",
    "a = np.arange(1, 7).reshape(3, 2)\n",
    "print(a)\n",
    "np.expand_dims(a, axis = 0)"
   ]
  },
  {
   "cell_type": "code",
   "execution_count": 97,
   "metadata": {},
   "outputs": [
    {
     "data": {
      "text/plain": [
       "array([0, 0, 1, 0, 0, 1, 0, 0, 1, 1, 1, 0, 1, 1, 1, 1, 1, 1, 1, 0])"
      ]
     },
     "execution_count": 97,
     "metadata": {},
     "output_type": "execute_result"
    }
   ],
   "source": [
    "# Where value satisfy\n",
    "\n",
    "a = np.random.randint(1, 100, 20)\n",
    "np.where(a > 50) # return index only value > 50\n",
    "np.where(a > 50, 0, 1) # replace 0 where true and replace 1 where false"
   ]
  },
  {
   "cell_type": "code",
   "execution_count": 104,
   "metadata": {},
   "outputs": [
    {
     "name": "stdout",
     "output_type": "stream",
     "text": [
      "[82 30  7 72 92 13 64 44 90 83]\n",
      "[[42  9 64 77]\n",
      " [44 11 82 89]\n",
      " [96 60 17 32]]\n"
     ]
    },
    {
     "data": {
      "text/plain": [
       "array([1, 1, 2], dtype=int64)"
      ]
     },
     "execution_count": 104,
     "metadata": {},
     "output_type": "execute_result"
    }
   ],
   "source": [
    "# Argmax Argmin -> return max/min value index\n",
    "\n",
    "a = np.random.randint(1, 100, 10)\n",
    "b = np.random.randint(1, 100, 12).reshape(3, 4)\n",
    "print(a)\n",
    "print(b)\n",
    "np.argmax(a) # max value index\n",
    "np.argmin(a) # min value index\n",
    "\n",
    "np.argmax(b, axis = 0)\n",
    "np.argmin(b, axis = 1)"
   ]
  },
  {
   "cell_type": "code",
   "execution_count": 111,
   "metadata": {},
   "outputs": [
    {
     "name": "stdout",
     "output_type": "stream",
     "text": [
      "[66 99 26 16 28 46 43 73 88 43]\n",
      "[[60 27 65 52]\n",
      " [ 1 96 27 99]\n",
      " [ 4 68 38 87]]\n"
     ]
    },
    {
     "data": {
      "text/plain": [
       "array([[     60,    1620,  105300, 5475600],\n",
       "       [      1,      96,    2592,  256608],\n",
       "       [      4,     272,   10336,  899232]])"
      ]
     },
     "execution_count": 111,
     "metadata": {},
     "output_type": "execute_result"
    }
   ],
   "source": [
    "# Cumsum & Cumprod -> sum of previous all\n",
    "\n",
    "a = np.random.randint(1, 100, 10)\n",
    "b = np.random.randint(1, 100, 12).reshape(3, 4)\n",
    "print(a)\n",
    "print(b)\n",
    "\n",
    "np.cumsum(a)\n",
    "np.cumprod(a)\n",
    "\n",
    "np.cumsum(b, axis = 0) # row\n",
    "np.cumprod(b, axis = 1) # col"
   ]
  },
  {
   "cell_type": "code",
   "execution_count": 114,
   "metadata": {},
   "outputs": [
    {
     "name": "stdout",
     "output_type": "stream",
     "text": [
      "[13  6 74 48 93 91 84 14 23  2]\n"
     ]
    },
    {
     "data": {
      "text/plain": [
       "35.5"
      ]
     },
     "execution_count": 114,
     "metadata": {},
     "output_type": "execute_result"
    }
   ],
   "source": [
    "# Percentile -> how many % people behind me\n",
    "\n",
    "a = np.random.randint(1, 100, 10)\n",
    "print(a)\n",
    "\n",
    "np.percentile(a, 100) # max\n",
    "np.percentile(a, 0) # min\n",
    "np.percentile(a, 50) # mid"
   ]
  },
  {
   "cell_type": "code",
   "execution_count": 116,
   "metadata": {},
   "outputs": [
    {
     "name": "stdout",
     "output_type": "stream",
     "text": [
      "[48 34 80 14 65 45  2 59 76 43 21 68 37 41 51 10 24 38 43 68 45 57 89 16\n",
      " 49 19 88 86 11 40 85 89 46 36 57 10 87 27 87 40 20 96 74 79 83 86 88 58\n",
      " 96  7]\n"
     ]
    },
    {
     "data": {
      "text/plain": [
       "(array([ 2,  6,  4,  4, 10,  5,  3,  3, 11,  2], dtype=int64),\n",
       " array([  0,  10,  20,  30,  40,  50,  60,  70,  80,  90, 100]))"
      ]
     },
     "execution_count": 116,
     "metadata": {},
     "output_type": "execute_result"
    }
   ],
   "source": [
    "# Histogram -> frequency count in given range (bins)\n",
    "\n",
    "a = np.random.randint(1, 100, 50)\n",
    "print(a)\n",
    "np.histogram(a, bins = [0, 10, 20, 30, 40, 50, 60, 70, 80, 90, 100])"
   ]
  },
  {
   "cell_type": "code",
   "execution_count": 117,
   "metadata": {},
   "outputs": [
    {
     "data": {
      "text/plain": [
       "array([[1.        , 0.25344572],\n",
       "       [0.25344572, 1.        ]])"
      ]
     },
     "execution_count": 117,
     "metadata": {},
     "output_type": "execute_result"
    }
   ],
   "source": [
    "# Corelation & Coefficient\n",
    "\n",
    "salary = np.array([20000, 40000, 25000, 35000, 60000])\n",
    "experience = np.array([1, 3, 2, 4, 2])\n",
    "\n",
    "np.corrcoef(salary, experience)"
   ]
  },
  {
   "cell_type": "code",
   "execution_count": 127,
   "metadata": {},
   "outputs": [
    {
     "data": {
      "text/plain": [
       "array([50, 30])"
      ]
     },
     "execution_count": 127,
     "metadata": {},
     "output_type": "execute_result"
    }
   ],
   "source": [
    "# Isin -> search for multiple item\n",
    "\n",
    "a = np.random.randint(1, 100, 20);\n",
    "items = np.array([10, 20, 30, 40, 50, 60, 70])\n",
    "\n",
    "np.isin(a, items)\n",
    "a[np.isin(a, items)]"
   ]
  },
  {
   "cell_type": "code",
   "execution_count": 132,
   "metadata": {},
   "outputs": [
    {
     "name": "stdout",
     "output_type": "stream",
     "text": [
      "[ 9 71 85 52 65 41 55 24 86 75]\n",
      "[[73  3  6 83]\n",
      " [11 99 20 68]\n",
      " [41 30 86 15]]\n"
     ]
    },
    {
     "data": {
      "text/plain": [
       "array([[83,  6,  3, 73],\n",
       "       [68, 20, 99, 11],\n",
       "       [15, 86, 30, 41]])"
      ]
     },
     "execution_count": 132,
     "metadata": {},
     "output_type": "execute_result"
    }
   ],
   "source": [
    "# Flip -> reverse\n",
    "\n",
    "a = np.random.randint(1, 100, 10)\n",
    "b = np.random.randint(1, 100, 12).reshape(3, 4)\n",
    "print(a)\n",
    "print(b)\n",
    "\n",
    "np.flip(a)\n",
    "np.flip(b) # row, col flip\n",
    "np.flip(b, axis = 0) # row flip\n",
    "np.flip(b, axis = 1) # col flip"
   ]
  },
  {
   "cell_type": "code",
   "execution_count": 135,
   "metadata": {},
   "outputs": [
    {
     "name": "stdout",
     "output_type": "stream",
     "text": [
      "[28 88 89 38  9 43 73 35 77 93]\n"
     ]
    },
    {
     "data": {
      "text/plain": [
       "array([100, 200, 300,  38,   9,  43,  73,  35,  77,  93])"
      ]
     },
     "execution_count": 135,
     "metadata": {},
     "output_type": "execute_result"
    }
   ],
   "source": [
    "# Put -> replace specific element\n",
    "\n",
    "a = np.random.randint(1, 100, 10)\n",
    "print(a)\n",
    "\n",
    "np.put(a, [0, 1, 2], [100, 200, 300])\n",
    "a"
   ]
  },
  {
   "cell_type": "code",
   "execution_count": 139,
   "metadata": {},
   "outputs": [
    {
     "name": "stdout",
     "output_type": "stream",
     "text": [
      "[60 66 18 55 45 25 82 77 94 63]\n",
      "[[68 25 11 74]\n",
      " [ 7 15 75 58]\n",
      " [28 48 41 74]]\n"
     ]
    },
    {
     "data": {
      "text/plain": [
       "array([66, 45, 25, 82, 77, 94, 63])"
      ]
     },
     "execution_count": 139,
     "metadata": {},
     "output_type": "execute_result"
    }
   ],
   "source": [
    "# Delete -> after delete return new array\n",
    "\n",
    "a = np.random.randint(1, 100, 10)\n",
    "b = np.random.randint(1, 100, 12).reshape(3, 4)\n",
    "print(a)\n",
    "print(b)\n",
    "\n",
    "np.delete(a, 0)\n",
    "np.delete(a, [0, 2, 3])\n",
    "# np.delete(b, 0, axis=0)"
   ]
  },
  {
   "cell_type": "code",
   "execution_count": 150,
   "metadata": {},
   "outputs": [
    {
     "data": {
      "text/plain": [
       "array([False,  True, False, False, False, False])"
      ]
     },
     "execution_count": 150,
     "metadata": {},
     "output_type": "execute_result"
    }
   ],
   "source": [
    "# Set function\n",
    "\n",
    "m = np.array([1, 2, 3, 4, 5, 6])\n",
    "n = np.array([3, 4, 5, 6, 7])\n",
    "\n",
    "np.union1d(m, n)\n",
    "np.intersect1d(m, n)\n",
    "np.setdiff1d(m, n) # element in m not n\n",
    "np.setxor1d(m, n) # remove common element\n",
    "np.in1d(m, 2)"
   ]
  },
  {
   "cell_type": "code",
   "execution_count": 154,
   "metadata": {},
   "outputs": [
    {
     "name": "stdout",
     "output_type": "stream",
     "text": [
      "[41 40 95 49 36 44 35 41 36 51 32 92 30 74 89 98  7 92 74 71]\n"
     ]
    },
    {
     "data": {
      "text/plain": [
       "array([41, 40, 66, 49, 36, 44, 35, 41, 36, 51, 32, 66, 30, 66, 66, 66,  7,\n",
       "       66, 66, 66])"
      ]
     },
     "execution_count": 154,
     "metadata": {},
     "output_type": "execute_result"
    }
   ],
   "source": [
    "# Clip -> value in range\n",
    "\n",
    "a = np.random.randint(1, 100, 20)\n",
    "print(a)\n",
    "np.clip(a, a_min = 5, a_max = 66)"
   ]
  }
 ],
 "metadata": {
  "kernelspec": {
   "display_name": "Python 3",
   "language": "python",
   "name": "python3"
  },
  "language_info": {
   "codemirror_mode": {
    "name": "ipython",
    "version": 3
   },
   "file_extension": ".py",
   "mimetype": "text/x-python",
   "name": "python",
   "nbconvert_exporter": "python",
   "pygments_lexer": "ipython3",
   "version": "3.9.13"
  }
 },
 "nbformat": 4,
 "nbformat_minor": 2
}
