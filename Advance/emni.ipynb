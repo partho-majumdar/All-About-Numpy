{
 "cells": [
  {
   "cell_type": "code",
   "execution_count": 100,
   "metadata": {},
   "outputs": [],
   "source": [
    "import numpy as np"
   ]
  },
  {
   "cell_type": "code",
   "execution_count": 52,
   "metadata": {},
   "outputs": [
    {
     "name": "stdout",
     "output_type": "stream",
     "text": [
      "1.8483860492706299\n",
      "0.033457040786743164\n"
     ]
    }
   ],
   "source": [
    "# Speed check\n",
    "\n",
    "# list\n",
    "a1 = [i for i in range(10000000)]\n",
    "a2 = [i for i in range(10000000, 20000000)]\n",
    "\n",
    "c = []\n",
    "\n",
    "import time;\n",
    "start = time.time()\n",
    "\n",
    "for i in range(len(a1)):\n",
    "    c.append(a1[i] + a2[i])\n",
    "\n",
    "print(time.time() - start)\n",
    "\n",
    "# numpy\n",
    "b1 = np.arange(10000000)\n",
    "b2 = np.arange(10000000, 20000000)\n",
    "\n",
    "start1 = time.time()\n",
    "c1 = b1 + b2\n",
    "print(time.time() - start1)"
   ]
  },
  {
   "cell_type": "code",
   "execution_count": 53,
   "metadata": {},
   "outputs": [
    {
     "name": "stdout",
     "output_type": "stream",
     "text": [
      "89095160\n",
      "10000112\n"
     ]
    }
   ],
   "source": [
    "# Allocate Memory\n",
    "\n",
    "a1 = [i for i in range(10000000)]\n",
    "b1 = np.arange(10000000, dtype = np.int8);\n",
    "\n",
    "import sys\n",
    "print(sys.getsizeof(a1))\n",
    "print(sys.getsizeof(b1))"
   ]
  },
  {
   "cell_type": "code",
   "execution_count": 54,
   "metadata": {},
   "outputs": [
    {
     "name": "stdout",
     "output_type": "stream",
     "text": [
      "[[ 0  1  2  3]\n",
      " [ 4  5  6  7]\n",
      " [ 8  9 10 11]\n",
      " [12 13 14 15]\n",
      " [16 17 18 19]\n",
      " [20 21 22 23]]\n",
      "[[ 0  1  2  3]\n",
      " [ 8  9 10 11]\n",
      " [12 13 14 15]\n",
      " [20 21 22 23]]\n",
      "[[ 0  1  3]\n",
      " [ 4  5  7]\n",
      " [ 8  9 11]\n",
      " [12 13 15]\n",
      " [16 17 19]\n",
      " [20 21 23]]\n"
     ]
    }
   ],
   "source": [
    "# Fancy indexing\n",
    "\n",
    "a = np.arange(24).reshape(6, 4)\n",
    "print(a)\n",
    "print(a[[0, 2, 3, 5]])\n",
    "print(a[:, [0, 1, 3]])"
   ]
  },
  {
   "cell_type": "code",
   "execution_count": 95,
   "metadata": {},
   "outputs": [
    {
     "data": {
      "text/plain": [
       "array([55, 78, 16, 16,  5, 69, 78, 90, 74, 47, 24, 13, 12, 16, 17, 23, 20,\n",
       "       19, 94, 68])"
      ]
     },
     "execution_count": 95,
     "metadata": {},
     "output_type": "execute_result"
    }
   ],
   "source": [
    "# Boolean indexing\n",
    "\n",
    "# Random generate int\n",
    "a = np.random.randint(1, 100, 24).reshape(6, 4)\n",
    "a[a > 50]\n",
    "a[a % 2 == 0]\n",
    "a[(a > 50) & (a % 2 == 0)]\n",
    "a[a % 7 != 0]"
   ]
  },
  {
   "cell_type": "code",
   "execution_count": 115,
   "metadata": {},
   "outputs": [
    {
     "name": "stdout",
     "output_type": "stream",
     "text": [
      "[[ 0  2  4]\n",
      " [ 3  5  7]\n",
      " [ 6  8 10]\n",
      " [ 9 11 13]]\n",
      "[[0 1 2]\n",
      " [1 2 3]\n",
      " [2 3 4]]\n",
      "[[0 1 2]\n",
      " [1 2 3]\n",
      " [2 3 4]\n",
      " [3 4 5]]\n"
     ]
    }
   ],
   "source": [
    "# Broadcasting\n",
    "\n",
    "# Same shape\n",
    "a = np.arange(6).reshape(2, 3)\n",
    "b = np.arange(6, 12).reshape(2, 3)\n",
    "\n",
    "# print(a + b)\n",
    "\n",
    "# Different shape\n",
    "a = np.arange(6).reshape(2, 3)\n",
    "b = np.arange(3)\n",
    "\n",
    "# Example - 1\n",
    "a = np.arange(12).reshape(4, 3)\n",
    "b = np.arange(3).reshape(3)\n",
    "\n",
    "print(a + b) # possible\n",
    "\n",
    "# Example - 2\n",
    "a = np.arange(12).reshape(3, 4)\n",
    "b = np.arange(3).reshape(3)\n",
    "\n",
    "# print(a+b) impossible\n",
    "\n",
    "# Example - 3\n",
    "a = np.arange(3).reshape(1, 3)\n",
    "b = np.arange(3).reshape(3, 1)\n",
    "\n",
    "print(a + b) # possible\n",
    "\n",
    "# Example - 4\n",
    "a = np.arange(3).reshape(1, 3)\n",
    "b = np.arange(4).reshape(4, 1)\n",
    "\n",
    "print(a + b) # possible\n",
    "\n",
    "# Example - 5\n",
    "a = np.arange(12).reshape(3, 4)\n",
    "b = np.arange(12).reshape(4, 3)\n",
    "\n",
    "# print(a + b) impossible"
   ]
  },
  {
   "cell_type": "code",
   "execution_count": null,
   "metadata": {},
   "outputs": [],
   "source": []
  }
 ],
 "metadata": {
  "kernelspec": {
   "display_name": "Python 3",
   "language": "python",
   "name": "python3"
  },
  "language_info": {
   "codemirror_mode": {
    "name": "ipython",
    "version": 3
   },
   "file_extension": ".py",
   "mimetype": "text/x-python",
   "name": "python",
   "nbconvert_exporter": "python",
   "pygments_lexer": "ipython3",
   "version": "3.9.13"
  }
 },
 "nbformat": 4,
 "nbformat_minor": 2
}
